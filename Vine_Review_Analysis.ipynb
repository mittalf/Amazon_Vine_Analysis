{
 "cells": [
  {
   "cell_type": "code",
   "execution_count": 1,
   "metadata": {
    "colab": {
     "base_uri": "https://localhost:8080/"
    },
    "id": "V58rxea0HqSa",
    "outputId": "5792081e-8a33-4c20-a774-2f4f71126edd"
   },
   "outputs": [
    {
     "name": "stdout",
     "output_type": "stream",
     "text": [
      "Hit:1 https://cloud.r-project.org/bin/linux/ubuntu bionic-cran40/ InRelease\n",
      "Ign:2 https://developer.download.nvidia.com/compute/cuda/repos/ubuntu1804/x86_64  InRelease\n",
      "Get:3 http://security.ubuntu.com/ubuntu bionic-security InRelease [88.7 kB]\n",
      "Hit:4 http://archive.ubuntu.com/ubuntu bionic InRelease\n",
      "Ign:5 https://developer.download.nvidia.com/compute/machine-learning/repos/ubuntu1804/x86_64  InRelease\n",
      "Hit:6 https://developer.download.nvidia.com/compute/cuda/repos/ubuntu1804/x86_64  Release\n",
      "Hit:7 https://developer.download.nvidia.com/compute/machine-learning/repos/ubuntu1804/x86_64  Release\n",
      "Hit:8 http://ppa.launchpad.net/c2d4u.team/c2d4u4.0+/ubuntu bionic InRelease\n",
      "Get:9 http://archive.ubuntu.com/ubuntu bionic-updates InRelease [88.7 kB]\n",
      "Hit:10 http://ppa.launchpad.net/cran/libgit2/ubuntu bionic InRelease\n",
      "Get:11 http://archive.ubuntu.com/ubuntu bionic-backports InRelease [74.6 kB]\n",
      "Hit:12 http://ppa.launchpad.net/deadsnakes/ppa/ubuntu bionic InRelease\n",
      "Hit:13 http://ppa.launchpad.net/graphics-drivers/ppa/ubuntu bionic InRelease\n",
      "Fetched 252 kB in 4s (59.2 kB/s)\n",
      "Reading package lists... Done\n"
     ]
    }
   ],
   "source": [
    "import os\n",
    "# Find the latest version of spark 3.0 from http://www.apache.org/dist/spark/ and enter as the spark version\n",
    "# For example:\n",
    "# spark_version = 'spark-3.0.3'\n",
    "spark_version = 'spark-3.0.3'\n",
    "os.environ['SPARK_VERSION']=spark_version\n",
    "\n",
    "# Install Spark and Java\n",
    "!apt-get update\n",
    "!apt-get install openjdk-11-jdk-headless -qq > /dev/null\n",
    "!wget -q http://www.apache.org/dist/spark/$SPARK_VERSION/$SPARK_VERSION-bin-hadoop2.7.tgz\n",
    "!tar xf $SPARK_VERSION-bin-hadoop2.7.tgz\n",
    "!pip install -q findspark\n",
    "\n",
    "# Set Environment Variables\n",
    "import os\n",
    "os.environ[\"JAVA_HOME\"] = \"/usr/lib/jvm/java-11-openjdk-amd64\"\n",
    "os.environ[\"SPARK_HOME\"] = f\"/content/{spark_version}-bin-hadoop2.7\"\n",
    "\n",
    "# Start a SparkSession\n",
    "import findspark\n",
    "findspark.init()"
   ]
  },
  {
   "cell_type": "code",
   "execution_count": 2,
   "metadata": {
    "colab": {
     "base_uri": "https://localhost:8080/"
    },
    "id": "_xKwTpATHqSe",
    "outputId": "619496d5-308f-41e1-95ba-d2bfa468ff98"
   },
   "outputs": [
    {
     "name": "stdout",
     "output_type": "stream",
     "text": [
      "--2022-02-04 21:43:33--  https://jdbc.postgresql.org/download/postgresql-42.2.16.jar\n",
      "Resolving jdbc.postgresql.org (jdbc.postgresql.org)... 72.32.157.228, 2001:4800:3e1:1::228\n",
      "Connecting to jdbc.postgresql.org (jdbc.postgresql.org)|72.32.157.228|:443... connected.\n",
      "HTTP request sent, awaiting response... 200 OK\n",
      "Length: 1002883 (979K) [application/java-archive]\n",
      "Saving to: ‘postgresql-42.2.16.jar.1’\n",
      "\n",
      "postgresql-42.2.16. 100%[===================>] 979.38K  --.-KB/s    in 0.1s    \n",
      "\n",
      "2022-02-04 21:43:33 (6.42 MB/s) - ‘postgresql-42.2.16.jar.1’ saved [1002883/1002883]\n",
      "\n"
     ]
    }
   ],
   "source": [
    "# Download the Postgres driver that will allow Spark to interact with Postgres.\n",
    "!wget https://jdbc.postgresql.org/download/postgresql-42.2.16.jar"
   ]
  },
  {
   "cell_type": "code",
   "execution_count": 3,
   "metadata": {
    "id": "MMqDAjVS0KN9"
   },
   "outputs": [],
   "source": [
    "from pyspark.sql import SparkSession\n",
    "spark = SparkSession.builder.appName(\"M16-Amazon-Challenge-Analysis\").config(\"spark.driver.extraClassPath\",\"/content/postgresql-42.2.16.jar\").getOrCreate()"
   ]
  },
  {
   "cell_type": "markdown",
   "metadata": {
    "id": "cyBsySGuY-9V"
   },
   "source": [
    "### Load Amazon Data into Spark DataFrame"
   ]
  },
  {
   "cell_type": "code",
   "execution_count": 4,
   "metadata": {
    "colab": {
     "base_uri": "https://localhost:8080/"
    },
    "id": "CtCmBhQJY-9Z",
    "outputId": "dd0091bb-317a-4952-a736-be2e23c441f6"
   },
   "outputs": [
    {
     "name": "stdout",
     "output_type": "stream",
     "text": [
      "+-----------+-----------+--------------+----------+--------------+--------------------+----------------+-----------+-------------+-----------+----+-----------------+--------------------+--------------------+-----------+\n",
      "|marketplace|customer_id|     review_id|product_id|product_parent|       product_title|product_category|star_rating|helpful_votes|total_votes|vine|verified_purchase|     review_headline|         review_body|review_date|\n",
      "+-----------+-----------+--------------+----------+--------------+--------------------+----------------+-----------+-------------+-----------+----+-----------------+--------------------+--------------------+-----------+\n",
      "|         US|   16199106|R203HPW78Z7N4K|B0067WNSZY|     633038551|FGGF3032MW Galler...|Major Appliances|          5|            0|          0|   N|                Y|If you need a new...|What a great stov...| 2015-08-31|\n",
      "|         US|   16374060|R2EAIGVLEALSP3|B002QSXK60|     811766671|Best Hand Clothes...|Major Appliances|          5|            1|          1|   N|                Y|          Five Stars|        worked great| 2015-08-31|\n",
      "|         US|   15322085|R1K1CD73HHLILA|B00EC452R6|     345562728|Supco SET184 Ther...|Major Appliances|          5|            0|          0|   N|                Y|       Fast Shipping|Part exactly what...| 2015-08-31|\n",
      "|         US|   32004835|R2KZBMOFRMYOPO|B00MVVIF2G|     563052763|Midea WHS-160RB1 ...|Major Appliances|          5|            1|          1|   N|                Y|          Five Stars|Love my refrigera...| 2015-08-31|\n",
      "|         US|   25414497| R6BIZOZY6UD01|B00IY7BNUW|     874236579|Avalon Bay Portab...|Major Appliances|          5|            0|          0|   N|                Y|          Five Stars|No more running t...| 2015-08-31|\n",
      "|         US|   36311751|R1MCXZFNF8E7Y0|B0033X29CI|     294467812|Danby  Freestandi...|Major Appliances|          1|            0|          0|   N|                Y|       Piece of Junk|It would not cool...| 2015-08-31|\n",
      "|         US|   30920961|R3EMB3E3ODR6BW|B005R597HA|     183784715|Avanti 110-Volt A...|Major Appliances|          5|            2|          2|   N|                Y|Works awesome for...|Works awesome for...| 2015-08-31|\n",
      "|         US|   52491265| RJTONVTTOPJ5S|B00MO6V8Y0|     960251524|      Danby products|Major Appliances|          5|            0|          0|   N|                Y|          Five Stars|exactly what I wa...| 2015-08-31|\n",
      "|         US|   48166169|R21U5QZ2CQECUM|B00HT39QDI|     992475314|3 Pack Tier1 MSWF...|Major Appliances|          4|            0|          0|   N|                Y|          Four Stars|       AS advertised| 2015-08-31|\n",
      "|         US|   50394924| RL2BBC51H89DH|B00LESFZ52|       1641606|True TSSU-60-16 6...|Major Appliances|          4|            0|          0|   N|                Y|but has poor insu...|It works as adver...| 2015-08-31|\n",
      "|         US|    3915552|R3RNEPHF3WIRSZ|B0149IJVPI|     838108342|Magic: the Gather...|Major Appliances|          2|            0|          0|   N|                N|           Two Stars|it's not worth 22...| 2015-08-31|\n",
      "|         US|   17068589|R38DNT9KML2PF3|B002HT0958|     387104338|Mini Portable Cou...|Major Appliances|          5|            0|          0|   N|                Y| Love it for camping|Wonderful! It spi...| 2015-08-31|\n",
      "|         US|   52081068|R2ECMBJM8KNNC8|B006WOBNX6|     180688127|1 X Dishwasher Ra...|Major Appliances|          4|            0|          0|   N|                Y|          Four Stars|Did the job but d...| 2015-08-31|\n",
      "|         US|   13783713|R2F3F92PRN9T7S|B00NLPMOU0|     570132358|Watson 1.5 ft AC ...|Major Appliances|          5|            0|          0|   N|                Y|Very well satisfied.|Arrived on time a...| 2015-08-31|\n",
      "|         US|   14555366|R35XNT88XVEMK6|B00KJ07SEM|     313983847|GE MWF SmartWater...|Major Appliances|          5|            1|          1|   N|                Y|          Five Stars|               Super| 2015-08-31|\n",
      "|         US|   48417244| RZRXLHQS71FUP|B001AT2ALM|     364403440|Koldfront Ultra C...|Major Appliances|          4|            1|          1|   N|                Y|          Four Stars|Looking forward t...| 2015-08-31|\n",
      "|         US|   19010760|R3J9T4MZRAURV5|B00JG8B42K|     672722354|OnePurify RFC0800...|Major Appliances|          1|            0|          0|   N|                Y|     dont waste your|cheap knock-off. ...| 2015-08-31|\n",
      "|         US|   43532555|R3CLDHHI0ZSQLO|B00FRJ5EWS|     137548022|2016 Life Water I...|Major Appliances|          5|            1|          2|   N|                N|       Great Product|My wife is lookin...| 2015-08-31|\n",
      "|         US|   21879631| RY52KZABZK8QF|B0052G14E8|     423421857|Danby 0.7 cu.ft. ...|Major Appliances|          1|            0|          0|   N|                Y|Do not recommend ...|3 of the buttons ...| 2015-08-31|\n",
      "|         US|     810098|R25RXV5X29M3UC|B00LOVVE9A|     386722389|SPT UF-304SS Ener...|Major Appliances|          4|            0|          1|   N|                Y|          Four Stars|     So far so good.| 2015-08-31|\n",
      "+-----------+-----------+--------------+----------+--------------+--------------------+----------------+-----------+-------------+-----------+----+-----------------+--------------------+--------------------+-----------+\n",
      "only showing top 20 rows\n",
      "\n"
     ]
    }
   ],
   "source": [
    "from pyspark import SparkFiles\n",
    "url = \"https://s3.amazonaws.com/amazon-reviews-pds/tsv/amazon_reviews_us_Major_Appliances_v1_00.tsv.gz\"\n",
    "spark.sparkContext.addFile(url)\n",
    "df = spark.read.option(\"encoding\", \"UTF-8\").csv(SparkFiles.get(\"\"), sep=\"\\t\", header=True, inferSchema=True)\n",
    "df.show()"
   ]
  },
  {
   "cell_type": "markdown",
   "metadata": {
    "id": "2yUSe55VY-9t"
   },
   "source": [
    "### Create DataFrames to match tables"
   ]
  },
  {
   "cell_type": "code",
   "execution_count": 5,
   "metadata": {
    "id": "C8REmY1aY-9u"
   },
   "outputs": [],
   "source": [
    "from pyspark.sql.functions import to_date\n",
    "# Read in the Review dataset as a DataFrame\n"
   ]
  },
  {
   "cell_type": "code",
   "execution_count": 6,
   "metadata": {
    "colab": {
     "base_uri": "https://localhost:8080/"
    },
    "id": "lzMmkdKmY--D",
    "outputId": "637b8c53-111c-4b77-e720-2829ef0346eb"
   },
   "outputs": [
    {
     "name": "stdout",
     "output_type": "stream",
     "text": [
      "+--------------+-----------+-------------+-----------+----+-----------------+\n",
      "|     review_id|star_rating|helpful_votes|total_votes|vine|verified_purchase|\n",
      "+--------------+-----------+-------------+-----------+----+-----------------+\n",
      "|R203HPW78Z7N4K|          5|            0|          0|   N|                Y|\n",
      "|R2EAIGVLEALSP3|          5|            1|          1|   N|                Y|\n",
      "|R1K1CD73HHLILA|          5|            0|          0|   N|                Y|\n",
      "|R2KZBMOFRMYOPO|          5|            1|          1|   N|                Y|\n",
      "| R6BIZOZY6UD01|          5|            0|          0|   N|                Y|\n",
      "|R1MCXZFNF8E7Y0|          1|            0|          0|   N|                Y|\n",
      "|R3EMB3E3ODR6BW|          5|            2|          2|   N|                Y|\n",
      "| RJTONVTTOPJ5S|          5|            0|          0|   N|                Y|\n",
      "|R21U5QZ2CQECUM|          4|            0|          0|   N|                Y|\n",
      "| RL2BBC51H89DH|          4|            0|          0|   N|                Y|\n",
      "|R3RNEPHF3WIRSZ|          2|            0|          0|   N|                N|\n",
      "|R38DNT9KML2PF3|          5|            0|          0|   N|                Y|\n",
      "|R2ECMBJM8KNNC8|          4|            0|          0|   N|                Y|\n",
      "|R2F3F92PRN9T7S|          5|            0|          0|   N|                Y|\n",
      "|R35XNT88XVEMK6|          5|            1|          1|   N|                Y|\n",
      "| RZRXLHQS71FUP|          4|            1|          1|   N|                Y|\n",
      "|R3J9T4MZRAURV5|          1|            0|          0|   N|                Y|\n",
      "|R3CLDHHI0ZSQLO|          5|            1|          2|   N|                N|\n",
      "| RY52KZABZK8QF|          1|            0|          0|   N|                Y|\n",
      "|R25RXV5X29M3UC|          4|            0|          1|   N|                Y|\n",
      "+--------------+-----------+-------------+-----------+----+-----------------+\n",
      "only showing top 20 rows\n",
      "\n"
     ]
    }
   ],
   "source": [
    "# Create the vine_table. DataFrame\n",
    "vine_df = df.select([\"review_id\",\"star_rating\",\"helpful_votes\",\"total_votes\",\"vine\",\"verified_purchase\"])\n",
    "vine_df.show()"
   ]
  },
  {
   "cell_type": "code",
   "execution_count": 7,
   "metadata": {
    "colab": {
     "base_uri": "https://localhost:8080/"
    },
    "id": "Exuo6ebUsCqW",
    "outputId": "a4341968-78f1-4310-80df-6e3acd5c72d3"
   },
   "outputs": [
    {
     "name": "stdout",
     "output_type": "stream",
     "text": [
      "+--------------+-----------+-------------+-----------+----+-----------------+\n",
      "|     review_id|star_rating|helpful_votes|total_votes|vine|verified_purchase|\n",
      "+--------------+-----------+-------------+-----------+----+-----------------+\n",
      "|R1QXNQBTH7LIUB|          3|            9|         22|   N|                Y|\n",
      "|R3BC75VKJK6LNV|          4|           83|         89|   N|                Y|\n",
      "| R5XKK92G5N9FU|          1|           18|         22|   N|                N|\n",
      "| RYMOWYW38WKOB|          5|           35|         35|   N|                N|\n",
      "| RYHZAVESD0T37|          1|           39|         45|   N|                Y|\n",
      "|R19Y5VBOF3BQOG|          1|           26|         35|   N|                Y|\n",
      "| R8V9F3139Z1WZ|          1|           30|         34|   N|                N|\n",
      "|R3RNY5OLY451GS|          1|           25|         30|   N|                Y|\n",
      "|R16LPVYSJOAH1T|          1|           20|         20|   N|                N|\n",
      "|R2NLL7ISMM5QYQ|          4|           89|         94|   N|                Y|\n",
      "|R3FAFI6Q0YL37W|          1|           30|         35|   N|                Y|\n",
      "|R1A4JVOP7N5Q1K|          5|           28|         30|   N|                Y|\n",
      "|R30E25MXKEP9BP|          4|           36|         37|   N|                Y|\n",
      "|R2FMLYX388LR2Y|          5|           28|         33|   N|                Y|\n",
      "| R1EGFDXPYGROC|          5|           28|         32|   N|                Y|\n",
      "|R2DCZYJZRF0V2O|          5|           26|         28|   N|                Y|\n",
      "|R3QNOR0K43XLWB|          5|           41|         41|   N|                N|\n",
      "| RPNUNJJZLD11P|          1|           26|         27|   N|                N|\n",
      "|R39VRWWZWAHBPH|          1|           15|         21|   N|                Y|\n",
      "| RU7XNN9EC8V8X|          1|           31|         36|   N|                Y|\n",
      "+--------------+-----------+-------------+-----------+----+-----------------+\n",
      "only showing top 20 rows\n",
      "\n"
     ]
    }
   ],
   "source": [
    "total_votes = vine_df.filter(vine_df['total_votes'] >= 20)\n",
    "total_votes.show()"
   ]
  },
  {
   "cell_type": "code",
   "execution_count": 8,
   "metadata": {
    "colab": {
     "base_uri": "https://localhost:8080/"
    },
    "id": "fS0FW9dfoNef",
    "outputId": "ccabc66c-3b12-4783-c420-286d0c45e89d"
   },
   "outputs": [
    {
     "name": "stdout",
     "output_type": "stream",
     "text": [
      "+-------+--------------+------------------+------------------+-----------------+----+-----------------+\n",
      "|summary|     review_id|       star_rating|     helpful_votes|      total_votes|vine|verified_purchase|\n",
      "+-------+--------------+------------------+------------------+-----------------+----+-----------------+\n",
      "|  count|          5364|              5364|              5364|             5364|5364|             5364|\n",
      "|   mean|          null|3.1599552572706937|46.022184936614465|52.32513049962714|null|             null|\n",
      "| stddev|          null|1.7435188521862113| 75.57960803581214|77.45165643752742|null|             null|\n",
      "|    min|R100212BMGLGI0|                 1|                 0|               20|   N|                N|\n",
      "|    max| RZZQQEWCN58IM|                 5|              1724|             1761|   Y|                Y|\n",
      "+-------+--------------+------------------+------------------+-----------------+----+-----------------+\n",
      "\n"
     ]
    }
   ],
   "source": [
    "total_votes.describe().show()"
   ]
  },
  {
   "cell_type": "code",
   "execution_count": 9,
   "metadata": {
    "id": "lIVY6Hu_txPF"
   },
   "outputs": [],
   "source": [
    " # Infer the schema, and register the DataFrame as a table.\n",
    "total_votes.createOrReplaceTempView(\"total_votes\")"
   ]
  },
  {
   "cell_type": "code",
   "execution_count": 10,
   "metadata": {
    "colab": {
     "base_uri": "https://localhost:8080/"
    },
    "id": "TPUT70D4rN3i",
    "outputId": "ff0f4a41-10e2-4f83-c82c-194747c24b3f"
   },
   "outputs": [
    {
     "name": "stdout",
     "output_type": "stream",
     "text": [
      "+--------------+-----------+-------------+-----------+----+-----------------+\n",
      "|     review_id|star_rating|helpful_votes|total_votes|vine|verified_purchase|\n",
      "+--------------+-----------+-------------+-----------+----+-----------------+\n",
      "|R3BC75VKJK6LNV|          4|           83|         89|   N|                Y|\n",
      "| R5XKK92G5N9FU|          1|           18|         22|   N|                N|\n",
      "| RYMOWYW38WKOB|          5|           35|         35|   N|                N|\n",
      "| RYHZAVESD0T37|          1|           39|         45|   N|                Y|\n",
      "|R19Y5VBOF3BQOG|          1|           26|         35|   N|                Y|\n",
      "| R8V9F3139Z1WZ|          1|           30|         34|   N|                N|\n",
      "|R3RNY5OLY451GS|          1|           25|         30|   N|                Y|\n",
      "|R16LPVYSJOAH1T|          1|           20|         20|   N|                N|\n",
      "|R2NLL7ISMM5QYQ|          4|           89|         94|   N|                Y|\n",
      "|R3FAFI6Q0YL37W|          1|           30|         35|   N|                Y|\n",
      "|R1A4JVOP7N5Q1K|          5|           28|         30|   N|                Y|\n",
      "|R30E25MXKEP9BP|          4|           36|         37|   N|                Y|\n",
      "|R2FMLYX388LR2Y|          5|           28|         33|   N|                Y|\n",
      "| R1EGFDXPYGROC|          5|           28|         32|   N|                Y|\n",
      "|R2DCZYJZRF0V2O|          5|           26|         28|   N|                Y|\n",
      "|R3QNOR0K43XLWB|          5|           41|         41|   N|                N|\n",
      "| RPNUNJJZLD11P|          1|           26|         27|   N|                N|\n",
      "|R39VRWWZWAHBPH|          1|           15|         21|   N|                Y|\n",
      "| RU7XNN9EC8V8X|          1|           31|         36|   N|                Y|\n",
      "|R2ZU7AC8QSDUOB|          4|           41|         44|   N|                Y|\n",
      "+--------------+-----------+-------------+-----------+----+-----------------+\n",
      "only showing top 20 rows\n",
      "\n"
     ]
    }
   ],
   "source": [
    "helpful_votes_df = spark.sql(\"SELECT * FROM total_votes WHERE CAST(helpful_votes AS FLOAT)/CAST(total_votes AS FLOAT) >=0.5\")\n",
    "helpful_votes_df.show()"
   ]
  },
  {
   "cell_type": "code",
   "execution_count": 11,
   "metadata": {
    "id": "7gwXvqNbwgov"
   },
   "outputs": [],
   "source": [
    " # Infer the schema, and register the DataFrame as a table.\n",
    "helpful_votes_df.createOrReplaceTempView(\"helpful_votes_df\")"
   ]
  },
  {
   "cell_type": "code",
   "execution_count": 12,
   "metadata": {
    "colab": {
     "base_uri": "https://localhost:8080/"
    },
    "id": "oPPKnSqxqZAe",
    "outputId": "4a2007dc-450a-48fb-8c39-49ce3ea88512"
   },
   "outputs": [
    {
     "name": "stdout",
     "output_type": "stream",
     "text": [
      "+--------------+-----------+-------------+-----------+----+-----------------+\n",
      "|     review_id|star_rating|helpful_votes|total_votes|vine|verified_purchase|\n",
      "+--------------+-----------+-------------+-----------+----+-----------------+\n",
      "|R20O97P5V9CZ21|          3|           21|         27|   Y|                N|\n",
      "| RCNB7YGLWKCV5|          5|           23|         30|   Y|                N|\n",
      "| RX1ZUVGBH3HKC|          5|          814|        848|   Y|                N|\n",
      "| RRS5AGL10DYU3|          3|           25|         29|   Y|                N|\n",
      "| R5YFC5G8V2B3I|          5|          104|        117|   Y|                N|\n",
      "|R1IDQ0G1S7J9TN|          5|          178|        196|   Y|                N|\n",
      "| RKXNZX22HQZEE|          3|          182|        192|   Y|                N|\n",
      "|R2K45IY0NO70ZI|          5|          116|        122|   Y|                N|\n",
      "| RQXRI4UKDX877|          5|           20|         24|   Y|                N|\n",
      "|R1L2R8OHO171YG|          5|           66|         68|   Y|                N|\n",
      "|R15NQCQUNOSI4U|          4|           19|         22|   Y|                N|\n",
      "|R37J6VNSC5TZVS|          4|           19|         22|   Y|                N|\n",
      "|R3F1V21FOEIEKN|          4|           30|         33|   Y|                N|\n",
      "|R2SQ2O06PRCM9D|          5|           28|         31|   Y|                N|\n",
      "| RX7QEPPDUZLO7|          4|           18|         20|   Y|                N|\n",
      "|R1B3OGO36CJKDA|          5|           15|         20|   Y|                Y|\n",
      "|R2SIOD5SIH2LJN|          4|           25|         31|   Y|                N|\n",
      "| R9J3GG1IL1KWC|          5|          158|        164|   Y|                N|\n",
      "| RPGPLUGTQP80H|          4|           17|         20|   Y|                N|\n",
      "|R2ACH3HF5VUWGD|          4|           76|         78|   Y|                N|\n",
      "+--------------+-----------+-------------+-----------+----+-----------------+\n",
      "only showing top 20 rows\n",
      "\n"
     ]
    }
   ],
   "source": [
    "paid_review_df = spark.sql(\"SELECT * FROM helpful_votes_df WHERE vine == 'Y'\")\n",
    "paid_review_df.show()"
   ]
  },
  {
   "cell_type": "code",
   "execution_count": 13,
   "metadata": {
    "colab": {
     "base_uri": "https://localhost:8080/"
    },
    "id": "HJ1gbR4OX6kX",
    "outputId": "47b3235b-05bd-4328-ab6f-82307f8ec108"
   },
   "outputs": [
    {
     "name": "stdout",
     "output_type": "stream",
     "text": [
      "+--------------+-----------+-------------+-----------+----+-----------------+\n",
      "|     review_id|star_rating|helpful_votes|total_votes|vine|verified_purchase|\n",
      "+--------------+-----------+-------------+-----------+----+-----------------+\n",
      "|R3BC75VKJK6LNV|          4|           83|         89|   N|                Y|\n",
      "| R5XKK92G5N9FU|          1|           18|         22|   N|                N|\n",
      "| RYMOWYW38WKOB|          5|           35|         35|   N|                N|\n",
      "| RYHZAVESD0T37|          1|           39|         45|   N|                Y|\n",
      "|R19Y5VBOF3BQOG|          1|           26|         35|   N|                Y|\n",
      "| R8V9F3139Z1WZ|          1|           30|         34|   N|                N|\n",
      "|R3RNY5OLY451GS|          1|           25|         30|   N|                Y|\n",
      "|R16LPVYSJOAH1T|          1|           20|         20|   N|                N|\n",
      "|R2NLL7ISMM5QYQ|          4|           89|         94|   N|                Y|\n",
      "|R3FAFI6Q0YL37W|          1|           30|         35|   N|                Y|\n",
      "|R1A4JVOP7N5Q1K|          5|           28|         30|   N|                Y|\n",
      "|R30E25MXKEP9BP|          4|           36|         37|   N|                Y|\n",
      "|R2FMLYX388LR2Y|          5|           28|         33|   N|                Y|\n",
      "| R1EGFDXPYGROC|          5|           28|         32|   N|                Y|\n",
      "|R2DCZYJZRF0V2O|          5|           26|         28|   N|                Y|\n",
      "|R3QNOR0K43XLWB|          5|           41|         41|   N|                N|\n",
      "| RPNUNJJZLD11P|          1|           26|         27|   N|                N|\n",
      "|R39VRWWZWAHBPH|          1|           15|         21|   N|                Y|\n",
      "| RU7XNN9EC8V8X|          1|           31|         36|   N|                Y|\n",
      "|R2ZU7AC8QSDUOB|          4|           41|         44|   N|                Y|\n",
      "+--------------+-----------+-------------+-----------+----+-----------------+\n",
      "only showing top 20 rows\n",
      "\n"
     ]
    }
   ],
   "source": [
    "unpaid_review_df = spark.sql(\"SELECT * FROM helpful_votes_df WHERE vine == 'N'\")\n",
    "unpaid_review_df.show()"
   ]
  },
  {
   "cell_type": "code",
   "execution_count": 16,
   "metadata": {
    "colab": {
     "base_uri": "https://localhost:8080/"
    },
    "id": "zYydsHacosQN",
    "outputId": "862394d3-6ce6-4b9c-9d25-b4ce25a4cc8d"
   },
   "outputs": [
    {
     "name": "stdout",
     "output_type": "stream",
     "text": [
      "Total number of paid reviews =  35\n",
      "+-----------+-----+------------------+\n",
      "|star_rating|count|        Percentage|\n",
      "+-----------+-----+------------------+\n",
      "|          3|    3| 8.571428571428571|\n",
      "|          5|   18| 51.42857142857142|\n",
      "|          4|   13|37.142857142857146|\n",
      "|          2|    1| 2.857142857142857|\n",
      "+-----------+-----+------------------+\n",
      "\n"
     ]
    }
   ],
   "source": [
    "paid_percent_df = paid_review_df.groupBy(\"star_rating\").count()\n",
    "num_paid_reviews = paid_review_df.count()\n",
    "print(\"Total number of paid reviews = \", num_paid_reviews)\n",
    "\n",
    "df_length = paid_percent_df.count()\n",
    "#print(\"df_length = \", df_length)\n",
    "\n",
    "for i in range(df_length):\n",
    "  paid_reviews_summary = paid_percent_df.withColumn(\"Percentage\",(paid_percent_df[\"count\"]/num_paid_reviews * 100))\n",
    "paid_reviews_summary.show()"
   ]
  },
  {
   "cell_type": "code",
   "execution_count": 17,
   "metadata": {
    "colab": {
     "base_uri": "https://localhost:8080/"
    },
    "id": "jSIvQk-heyZj",
    "outputId": "bc0dae53-3794-4522-9072-cde092a4a7ba"
   },
   "outputs": [
    {
     "name": "stdout",
     "output_type": "stream",
     "text": [
      "Total number of unpaid reviews =  4957\n",
      "+-----------+-----+------------------+\n",
      "|star_rating|count|        Percentage|\n",
      "+-----------+-----+------------------+\n",
      "|          1| 1549|31.248739156748034|\n",
      "|          3|  393| 7.928182368367964|\n",
      "|          5| 1963| 39.60056485777688|\n",
      "|          4|  723|14.585434738753278|\n",
      "|          2|  329| 6.637078878353843|\n",
      "+-----------+-----+------------------+\n",
      "\n"
     ]
    }
   ],
   "source": [
    "unpaid_percent_df = unpaid_review_df.groupBy(\"star_rating\").count()\n",
    "num_unpaid_reviews = unpaid_review_df.count()\n",
    "print(\"Total number of unpaid reviews = \", num_unpaid_reviews)\n",
    "\n",
    "df_length = unpaid_percent_df.count()\n",
    "#print(\"df_length = \", df_length)\n",
    "\n",
    "for i in range(df_length):\n",
    "  unpaid_reviews_summary = unpaid_percent_df.withColumn(\"Percentage\",(unpaid_percent_df[\"count\"]/num_unpaid_reviews * 100))\n",
    "unpaid_reviews_summary.show()\n"
   ]
  },
  {
   "cell_type": "code",
   "execution_count": 15,
   "metadata": {
    "id": "ws1mUGq2fYaK"
   },
   "outputs": [],
   "source": []
  }
 ],
 "metadata": {
  "colab": {
   "collapsed_sections": [],
   "name": "Vine_Review_Analysis.ipynb",
   "provenance": []
  },
  "kernelspec": {
   "display_name": "Python 3",
   "language": "python",
   "name": "python3"
  },
  "language_info": {
   "codemirror_mode": {
    "name": "ipython",
    "version": 3
   },
   "file_extension": ".py",
   "mimetype": "text/x-python",
   "name": "python",
   "nbconvert_exporter": "python",
   "pygments_lexer": "ipython3",
   "version": "3.8.8"
  }
 },
 "nbformat": 4,
 "nbformat_minor": 1
}
